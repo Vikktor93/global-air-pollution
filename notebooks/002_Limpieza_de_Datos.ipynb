{
 "cells": [
  {
   "cell_type": "markdown",
   "metadata": {},
   "source": [
    "# Limpieza de Datos\n",
    "En este notebook, se realiza la limpieza del dataset [Global Air Pollution][kaggle]\n",
    "\n",
    "\n",
    "[kaggle]: https://www.kaggle.com/datasets/hasibalmuzdadid/global-air-pollution-dataset\n",
    "\n",
    "### **Objetivos**\n",
    "\n",
    "1. Identificación de valores nulos\n",
    "2. Eliminación y/o reemplazo de valores nulos\n",
    "3. Identificación y eliminación de valores duplicados\n",
    "4. Generación del nuevo dataset tratado"
   ]
  },
  {
   "cell_type": "code",
   "execution_count": 1,
   "metadata": {},
   "outputs": [],
   "source": [
    "import pandas as pd\n",
    "import seaborn as sns\n",
    "import matplotlib.pyplot as plt\n",
    "import numpy as np"
   ]
  },
  {
   "cell_type": "code",
   "execution_count": 3,
   "metadata": {},
   "outputs": [],
   "source": [
    "df = pd.read_csv(\"../data/global_air_pollution.csv\")"
   ]
  },
  {
   "cell_type": "markdown",
   "metadata": {},
   "source": [
    "### Búsqueda de valores NaN\n",
    "A continuación se presenta la cantidad de valores nulos por cada columna."
   ]
  },
  {
   "cell_type": "code",
   "execution_count": 4,
   "metadata": {},
   "outputs": [
    {
     "data": {
      "text/plain": [
       "Country               427\n",
       "City                    1\n",
       "AQI Value               0\n",
       "AQI Category            0\n",
       "CO AQI Value            0\n",
       "CO AQI Category         0\n",
       "Ozone AQI Value         0\n",
       "Ozone AQI Category      0\n",
       "NO2 AQI Value           0\n",
       "NO2 AQI Category        0\n",
       "PM2.5 AQI Value         0\n",
       "PM2.5 AQI Category      0\n",
       "dtype: int64"
      ]
     },
     "execution_count": 4,
     "metadata": {},
     "output_type": "execute_result"
    }
   ],
   "source": [
    "df.isna().sum()"
   ]
  },
  {
   "cell_type": "markdown",
   "metadata": {},
   "source": [
    "Solamente dos variables del dataset presentan valores nulos:\n",
    "- La variable `Country` presenta 427.\n",
    "- La variable `City` presenta 1."
   ]
  },
  {
   "cell_type": "markdown",
   "metadata": {},
   "source": [
    "### Tratamiento de Valores Nulos\n",
    "\n",
    "#### Reemplazo de Valores Nulos por la Moda en la Columna Country\n",
    "\n",
    "Para abordar el tratamiento de valores nulos, en el caso de columna `Country` la mejor opción es reemplazar estos valores por la moda en lugar de eliminarlos.\n",
    "\n",
    "La eliminación es más adecuada cuando los valores faltantes son pocos y no representan un porcentaje considerable del dataset. Pero cuando hay una cantidad significativa de datos faltantes, suele ser una mejor opción para evitar perder información valiosa, el relleno de la información, en este caso con los valores más frecuentes.\n",
    "\n",
    "Si eliminamos los 427 registros, estaríamos sacrificando una parte del dataset que, aunque tenga valores faltantes en `Country`, puede tener información valiosa en otras columnas, como los índices de calidad del aire (AQI) y las ciudades."
   ]
  },
  {
   "cell_type": "code",
   "execution_count": 5,
   "metadata": {},
   "outputs": [
    {
     "name": "stderr",
     "output_type": "stream",
     "text": [
      "C:\\Users\\Victo\\AppData\\Local\\Temp\\ipykernel_20280\\2031395986.py:2: FutureWarning: A value is trying to be set on a copy of a DataFrame or Series through chained assignment using an inplace method.\n",
      "The behavior will change in pandas 3.0. This inplace method will never work because the intermediate object on which we are setting values always behaves as a copy.\n",
      "\n",
      "For example, when doing 'df[col].method(value, inplace=True)', try using 'df.method({col: value}, inplace=True)' or df[col] = df[col].method(value) instead, to perform the operation inplace on the original object.\n",
      "\n",
      "\n",
      "  df['Country'].fillna(moda, inplace=True)\n"
     ]
    }
   ],
   "source": [
    "moda = df['Country'].mode()[0]\n",
    "df['Country'].fillna(moda, inplace=True)"
   ]
  },
  {
   "cell_type": "markdown",
   "metadata": {},
   "source": [
    "#### Eliminación de Valores Nulos Columna City\n"
   ]
  },
  {
   "cell_type": "code",
   "execution_count": 6,
   "metadata": {},
   "outputs": [],
   "source": [
    "df.dropna(subset=['City'], inplace=True)"
   ]
  },
  {
   "cell_type": "markdown",
   "metadata": {},
   "source": [
    "#### Búsqueda y Eliminación de Registros Duplicados\n",
    "\n",
    "Se procede a identificar y eliminar las filas duplicadas para asegurar que cada registro en el dataset sea único y evitar algún tipo de sesgo."
   ]
  },
  {
   "cell_type": "code",
   "execution_count": 7,
   "metadata": {},
   "outputs": [
    {
     "name": "stdout",
     "output_type": "stream",
     "text": [
      "Cantidad de filas duplicadas: 0\n",
      "Número de filas duplicadas después de la limpieza: 0\n"
     ]
    }
   ],
   "source": [
    "print(f'Cantidad de filas duplicadas: {df.duplicated().sum()}')\n",
    "\n",
    "df.drop_duplicates(inplace=True)\n",
    "print(f'Número de filas duplicadas después de la limpieza: {df.duplicated().sum()}')"
   ]
  }
 ],
 "metadata": {
  "kernelspec": {
   "display_name": "DataSciencePython",
   "language": "python",
   "name": "python3"
  },
  "language_info": {
   "codemirror_mode": {
    "name": "ipython",
    "version": 3
   },
   "file_extension": ".py",
   "mimetype": "text/x-python",
   "name": "python",
   "nbconvert_exporter": "python",
   "pygments_lexer": "ipython3",
   "version": "3.11.9"
  }
 },
 "nbformat": 4,
 "nbformat_minor": 2
}
